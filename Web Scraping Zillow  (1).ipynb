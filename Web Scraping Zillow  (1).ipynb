{
 "cells": [
  {
   "cell_type": "markdown",
   "id": "73705dbf",
   "metadata": {},
   "source": [
    "## Web Scraping Zillow Part 1"
   ]
  },
  {
   "cell_type": "markdown",
   "id": "295c18d4",
   "metadata": {},
   "source": [
    "### Project Overview\n",
    "\n",
    "In this mini-project we’ll demonstrate a streamlined workflow for extracting real-estate listings directly from Zillow. Using `requests` to fetch each results page and **BeautifulSoup** for HTML parsing, we’ll harvest key attributes—address, price, beds, baths, and square footage—and load them into a **pandas** DataFrame for analysis. The goal is to keep the scraping logic lightweight and transparent while laying the groundwork for more advanced features (pagination, error handling, and API interception) that can be added later.\n"
   ]
  },
  {
   "cell_type": "markdown",
   "id": "4739286d",
   "metadata": {},
   "source": [
    "## I. Preparation"
   ]
  },
  {
   "cell_type": "markdown",
   "id": "8cb56b15",
   "metadata": {},
   "source": [
    "First, import the core libraries—**pandas** and **NumPy**—to handle and prepare the data. We’ll then use **Requests** to fetch the webpage and **BeautifulSoup** to parse and display the HTML content."
   ]
  },
  {
   "cell_type": "code",
   "execution_count": 1,
   "id": "f64e4aad",
   "metadata": {},
   "outputs": [],
   "source": [
    "## Necessary Libraries\n",
    "import pandas as pd \n",
    "import numpy as np \n",
    "\n",
    "## Reading the HTML\n",
    "import requests \n",
    "from bs4 import BeautifulSoup\n",
    "\n",
    "import warnings\n",
    "warnings.filterwarnings('ignore')"
   ]
  },
  {
   "cell_type": "markdown",
   "id": "793627c6",
   "metadata": {},
   "source": [
    "Next, assign the target URL to a variable so you can reference it throughout the script."
   ]
  },
  {
   "cell_type": "code",
   "execution_count": 2,
   "id": "f422ef01",
   "metadata": {
    "scrolled": true
   },
   "outputs": [],
   "source": [
    "url = 'https://www.zillow.com/sacramento-ca/'"
   ]
  },
  {
   "cell_type": "markdown",
   "id": "906e1c2f",
   "metadata": {},
   "source": [
    "Many sites reject traffic that looks automated, so we’ll add a realistic `User-Agent` (and any other needed headers) to make the request resemble a normal browser visit. After sending the request with `requests.get()`, we’ll check `response.status_code` to confirm the page loaded successfully and handle any errors.\n"
   ]
  },
  {
   "cell_type": "code",
   "execution_count": 3,
   "id": "95d8929c",
   "metadata": {},
   "outputs": [
    {
     "data": {
      "text/plain": [
       "200"
      ]
     },
     "execution_count": 3,
     "metadata": {},
     "output_type": "execute_result"
    }
   ],
   "source": [
    "headers = {\n",
    "    \"User-Agent\": \"Mozilla/5.0 (Windows NT 10.0; Win64; x64) AppleWebKit/537.36 (KHTML, like Gecko) Chrome/123.0.0.0 Safari/537.36\",\n",
    "    \"Accept\": \"text/html,application/xhtml+xml,application/xml;q=0.9,image/avif,image/webp,image/apng,*/*;q=0.8,application/signed-exchange;v=b3;q=0.7\",\n",
    "    \"Accept-Language\": \"en-US,en;q=0.9\",\n",
    "    \"Accept-Encoding\": \"gzip, deflate, br, zstd\",\n",
    "    \"Cookie\": \"\"\n",
    "}\n",
    "\n",
    "response = requests.get(url, headers=headers)\n",
    "\n",
    "response.status_code"
   ]
  },
  {
   "cell_type": "markdown",
   "id": "a814f56f",
   "metadata": {},
   "source": [
    "An HTTP **200** status means the request succeeded and the page content is available—so we can proceed with parsing.\n"
   ]
  },
  {
   "cell_type": "markdown",
   "id": "020ba024",
   "metadata": {},
   "source": [
    "## II. Soup"
   ]
  },
  {
   "cell_type": "markdown",
   "id": "5a90e9b6",
   "metadata": {},
   "source": [
    "Now that we have a clean 200 OK status, we can hand the page to **BeautifulSoup** for parsing and inspection. Before doing so, we set `response.encoding` (if it wasn’t provided) and use `response.content.decode(response.encoding, errors=\"replace\")` to ensure the HTML is decoded with the correct character set, avoiding any stray-character or encoding errors during parsing.\n"
   ]
  },
  {
   "cell_type": "code",
   "execution_count": 4,
   "id": "94cdacf4",
   "metadata": {},
   "outputs": [],
   "source": [
    "encod = response.encoding\n",
    "contents = response.content.decode(encod, errors=\"replace\")\n",
    "\n",
    "soup = BeautifulSoup(contents, 'html.parser')\n"
   ]
  },
  {
   "cell_type": "markdown",
   "id": "02627440",
   "metadata": {},
   "source": [
    "With the full HTML in hand, our first step is to locate the section header that contains the data we need—in this case, the heading **“Sacramento CA Real Estate.”**\n"
   ]
  },
  {
   "cell_type": "code",
   "execution_count": 5,
   "id": "8f3e4051",
   "metadata": {},
   "outputs": [
    {
     "name": "stdout",
     "output_type": "stream",
     "text": [
      "Sacramento CA Real Estate - Sacramento CA Homes For Sale | Zillow\n"
     ]
    }
   ],
   "source": [
    "titles = soup.title.text\n",
    "\n",
    "print(titles)"
   ]
  },
  {
   "cell_type": "markdown",
   "id": "0834ccf1",
   "metadata": {},
   "source": [
    "Finally, we’ll build a DataFrame and populate it with the information extracted from the HTML. We’ll loop through every property card, pull out the relevant fields, and append each record to the DataFrame. Wrapping the extraction logic in a `try / except` block lets the loop continue even if a particular card is malformed or a field is missing."
   ]
  },
  {
   "cell_type": "code",
   "execution_count": 6,
   "id": "f47f3a3c",
   "metadata": {
    "scrolled": true
   },
   "outputs": [
    {
     "data": {
      "text/html": [
       "<div>\n",
       "<style scoped>\n",
       "    .dataframe tbody tr th:only-of-type {\n",
       "        vertical-align: middle;\n",
       "    }\n",
       "\n",
       "    .dataframe tbody tr th {\n",
       "        vertical-align: top;\n",
       "    }\n",
       "\n",
       "    .dataframe thead th {\n",
       "        text-align: right;\n",
       "    }\n",
       "</style>\n",
       "<table border=\"1\" class=\"dataframe\">\n",
       "  <thead>\n",
       "    <tr style=\"text-align: right;\">\n",
       "      <th></th>\n",
       "      <th>price</th>\n",
       "      <th>posted_note</th>\n",
       "      <th>address</th>\n",
       "      <th>baths</th>\n",
       "      <th>sqft</th>\n",
       "      <th>beds</th>\n",
       "      <th>link</th>\n",
       "    </tr>\n",
       "  </thead>\n",
       "  <tbody>\n",
       "    <tr>\n",
       "      <th>0</th>\n",
       "      <td>$559,900</td>\n",
       "      <td>Showcase</td>\n",
       "      <td>3800 William Way, Sacramento, CA 95821</td>\n",
       "      <td>2ba</td>\n",
       "      <td>2,057sqft</td>\n",
       "      <td>3bds</td>\n",
       "      <td>https://www.zillow.com/homedetails/3800-Willia...</td>\n",
       "    </tr>\n",
       "    <tr>\n",
       "      <th>1</th>\n",
       "      <td>$599,000</td>\n",
       "      <td>Private backyard oasis</td>\n",
       "      <td>2940 Wheat Grass St, Sacramento, CA 95833</td>\n",
       "      <td>3ba</td>\n",
       "      <td>1,850sqft</td>\n",
       "      <td>3bds</td>\n",
       "      <td>https://www.zillow.com/homedetails/2940-Wheat-...</td>\n",
       "    </tr>\n",
       "    <tr>\n",
       "      <th>2</th>\n",
       "      <td>$250,000</td>\n",
       "      <td>Beautifully designed tri-level home</td>\n",
       "      <td>1370 Pebblewood Dr, Sacramento, CA 95833</td>\n",
       "      <td>3ba</td>\n",
       "      <td>1,862sqft</td>\n",
       "      <td>3bds</td>\n",
       "      <td>https://www.zillow.com/homedetails/1370-Pebble...</td>\n",
       "    </tr>\n",
       "    <tr>\n",
       "      <th>3</th>\n",
       "      <td>$529,900</td>\n",
       "      <td>Brand new carpet</td>\n",
       "      <td>5906 Caddington Way, Sacramento, CA 95835</td>\n",
       "      <td>3ba</td>\n",
       "      <td>1,875sqft</td>\n",
       "      <td>3bds</td>\n",
       "      <td>https://www.zillow.com/homedetails/5906-Caddin...</td>\n",
       "    </tr>\n",
       "    <tr>\n",
       "      <th>4</th>\n",
       "      <td>$539,950</td>\n",
       "      <td>Fruit bearing trees</td>\n",
       "      <td>2466 Buzz Aldrin Way, Sacramento, CA 95834</td>\n",
       "      <td>3ba</td>\n",
       "      <td>1,996sqft</td>\n",
       "      <td>4bds</td>\n",
       "      <td>https://www.zillow.com/homedetails/2466-Buzz-A...</td>\n",
       "    </tr>\n",
       "    <tr>\n",
       "      <th>5</th>\n",
       "      <td>$555,000</td>\n",
       "      <td>3D Tour</td>\n",
       "      <td>3097 Tintorera Way, Sacramento, CA 95833</td>\n",
       "      <td>2ba</td>\n",
       "      <td>1,757sqft</td>\n",
       "      <td>3bds</td>\n",
       "      <td>https://www.zillow.com/homedetails/3097-Tintor...</td>\n",
       "    </tr>\n",
       "    <tr>\n",
       "      <th>6</th>\n",
       "      <td>$565,000</td>\n",
       "      <td>Sparkling pool and spa</td>\n",
       "      <td>3065 Sand Dollar Way, Sacramento, CA 95821</td>\n",
       "      <td>2ba</td>\n",
       "      <td>1,447sqft</td>\n",
       "      <td>3bds</td>\n",
       "      <td>https://www.zillow.com/homedetails/3065-Sand-D...</td>\n",
       "    </tr>\n",
       "    <tr>\n",
       "      <th>7</th>\n",
       "      <td>$370,000</td>\n",
       "      <td>3 days on Zillow</td>\n",
       "      <td>2060 Monarch Ave, Sacramento, CA 95832</td>\n",
       "      <td>2ba</td>\n",
       "      <td>1,018sqft</td>\n",
       "      <td>3bds</td>\n",
       "      <td>https://www.zillow.com/homedetails/2060-Monarc...</td>\n",
       "    </tr>\n",
       "    <tr>\n",
       "      <th>8</th>\n",
       "      <td>$365,000</td>\n",
       "      <td>Functional layout</td>\n",
       "      <td>7312 Hutchins Way, North Highlands, CA 95660</td>\n",
       "      <td>2ba</td>\n",
       "      <td>1,090sqft</td>\n",
       "      <td>3bds</td>\n",
       "      <td>https://www.zillow.com/homedetails/7312-Hutchi...</td>\n",
       "    </tr>\n",
       "  </tbody>\n",
       "</table>\n",
       "</div>"
      ],
      "text/plain": [
       "      price                          posted_note  \\\n",
       "0  $559,900                             Showcase   \n",
       "1  $599,000               Private backyard oasis   \n",
       "2  $250,000  Beautifully designed tri-level home   \n",
       "3  $529,900                     Brand new carpet   \n",
       "4  $539,950                  Fruit bearing trees   \n",
       "5  $555,000                              3D Tour   \n",
       "6  $565,000               Sparkling pool and spa   \n",
       "7  $370,000                     3 days on Zillow   \n",
       "8  $365,000                    Functional layout   \n",
       "\n",
       "                                        address baths       sqft  beds  \\\n",
       "0        3800 William Way, Sacramento, CA 95821   2ba  2,057sqft  3bds   \n",
       "1     2940 Wheat Grass St, Sacramento, CA 95833   3ba  1,850sqft  3bds   \n",
       "2      1370 Pebblewood Dr, Sacramento, CA 95833   3ba  1,862sqft  3bds   \n",
       "3     5906 Caddington Way, Sacramento, CA 95835   3ba  1,875sqft  3bds   \n",
       "4    2466 Buzz Aldrin Way, Sacramento, CA 95834   3ba  1,996sqft  4bds   \n",
       "5      3097 Tintorera Way, Sacramento, CA 95833   2ba  1,757sqft  3bds   \n",
       "6    3065 Sand Dollar Way, Sacramento, CA 95821   2ba  1,447sqft  3bds   \n",
       "7        2060 Monarch Ave, Sacramento, CA 95832   2ba  1,018sqft  3bds   \n",
       "8  7312 Hutchins Way, North Highlands, CA 95660   2ba  1,090sqft  3bds   \n",
       "\n",
       "                                                link  \n",
       "0  https://www.zillow.com/homedetails/3800-Willia...  \n",
       "1  https://www.zillow.com/homedetails/2940-Wheat-...  \n",
       "2  https://www.zillow.com/homedetails/1370-Pebble...  \n",
       "3  https://www.zillow.com/homedetails/5906-Caddin...  \n",
       "4  https://www.zillow.com/homedetails/2466-Buzz-A...  \n",
       "5  https://www.zillow.com/homedetails/3097-Tintor...  \n",
       "6  https://www.zillow.com/homedetails/3065-Sand-D...  \n",
       "7  https://www.zillow.com/homedetails/2060-Monarc...  \n",
       "8  https://www.zillow.com/homedetails/7312-Hutchi...  "
      ]
     },
     "execution_count": 6,
     "metadata": {},
     "output_type": "execute_result"
    }
   ],
   "source": [
    "## Create a dataframe\n",
    "table1 = pd.DataFrame(columns = {\n",
    "    'address', \n",
    "    'price', \n",
    "    'link', \n",
    "    'posted_note', \n",
    "    'beds', \n",
    "    'baths', \n",
    "    'sqft'\n",
    "})\n",
    "\n",
    "## Find all listing cards\n",
    "houses = soup.find_all(\"div\", {\"class\":\"StyledCard-c11n-8-109-3__sc-1w6p0lv-0 icLwbG StyledPropertyCardBody-c11n-8-109-3__sc-1danayh-0 iHqwT PropertyCardWrapper__StyledPropertyCardBody-srp-8-109-3__sc-16e8gqd-3 iSbqZf\" })\n",
    "\n",
    "## Loop through the listing cards that will populate our dataframe \n",
    "for house in houses: \n",
    "    try:\n",
    "        address = house.find(\"address\").get_text(strip=True)\n",
    "        price = house.find(\"span\", {\"data-test\":\"property-card-price\"}).get_text(strip=True)\n",
    "        link = house.find(\"div\", {\"class\":\"StyledPhotoCarouselSlide-c11n-8-109-3__sc-jwte3-0 bYzbke\"}).a[\"href\"]\n",
    "        posted = house.find(\"div\", class_ = \"StyledPropertyCardBadgeArea-c11n-8-109-3__sc-11omngf-0 izNoTZ\").get_text(strip=True)\n",
    "        beds = house.find_all(\"li\", {\"class\":\"\"})[0].get_text(strip=True)\n",
    "        baths = house.find_all(\"li\", {\"class\":\"\"})[1].get_text(strip=True)\n",
    "        sqft = house.find_all(\"li\", {\"class\":\"\"})[2].get_text(strip=True)\n",
    "    except Exception as e: \n",
    "        address = None\n",
    "        price = None\n",
    "        link = None\n",
    "        posted = None\n",
    "        detail = None\n",
    "        \n",
    "    table1 = table1.append({\n",
    "        \"address\": address,\n",
    "        \"price\": price,\n",
    "        \"beds\": beds,\n",
    "        \"baths\": baths,\n",
    "        \"sqft\": sqft,\n",
    "        \"link\": link, \n",
    "        \"posted_note\": posted}, ignore_index=True)\n",
    "        \n",
    "table1"
   ]
  },
  {
   "cell_type": "markdown",
   "id": "53e48720",
   "metadata": {},
   "source": [
    "## III. Conclusion \n"
   ]
  },
  {
   "cell_type": "markdown",
   "id": "2dc70e4b",
   "metadata": {},
   "source": [
    "This walkthrough showed a basic way to collect data with BeautifulSoup. Notice that our DataFrame holds only 9 records, even though the page displays 41 listings. Because the results span several pages, our next iteration will focus on handling pagination so we can capture every listing.\n"
   ]
  }
 ],
 "metadata": {
  "kernelspec": {
   "display_name": "Python 3 (ipykernel)",
   "language": "python",
   "name": "python3"
  },
  "language_info": {
   "codemirror_mode": {
    "name": "ipython",
    "version": 3
   },
   "file_extension": ".py",
   "mimetype": "text/x-python",
   "name": "python",
   "nbconvert_exporter": "python",
   "pygments_lexer": "ipython3",
   "version": "3.9.7"
  }
 },
 "nbformat": 4,
 "nbformat_minor": 5
}
