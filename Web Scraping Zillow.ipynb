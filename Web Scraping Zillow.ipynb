{
 "cells": [
  {
   "cell_type": "markdown",
   "id": "73705dbf",
   "metadata": {},
   "source": [
    "## Web Scraping Zillow Part 1"
   ]
  },
  {
   "cell_type": "markdown",
   "id": "295c18d4",
   "metadata": {},
   "source": [
    "### Project Overview\n",
    "\n",
    "In this mini-project we’ll demonstrate a streamlined workflow for extracting real-estate listings directly from Zillow. Using `requests` to fetch each results page and **BeautifulSoup** for HTML parsing, we’ll harvest key attributes—address, price, beds, baths, and square footage—and load them into a **pandas** DataFrame for analysis. The goal is to keep the scraping logic lightweight and transparent while laying the groundwork for more advanced features (pagination, error handling, and API interception) that can be added later.\n"
   ]
  },
  {
   "cell_type": "markdown",
   "id": "53accbae",
   "metadata": {},
   "source": [
    "## I. Preparation"
   ]
  },
  {
   "cell_type": "markdown",
   "id": "85693cee",
   "metadata": {},
   "source": [
    "First, import the core libraries—**pandas** and **NumPy**—to handle and prepare the data. We’ll then use **Requests** to fetch the webpage and **BeautifulSoup** to parse and display the HTML content."
   ]
  },
  {
   "cell_type": "code",
   "execution_count": 213,
   "id": "f64e4aad",
   "metadata": {},
   "outputs": [],
   "source": [
    "## Necessary Libraries\n",
    "import pandas as pd \n",
    "import numpy as np \n",
    "\n",
    "## Reading the HTML\n",
    "import requests \n",
    "from bs4 import BeautifulSoup\n",
    "\n",
    "import warnings\n",
    "warnings.filterwarnings('ignore')"
   ]
  },
  {
   "cell_type": "markdown",
   "id": "2f87a786",
   "metadata": {},
   "source": [
    "Next, assign the target URL to a variable so you can reference it throughout the script."
   ]
  },
  {
   "cell_type": "code",
   "execution_count": 214,
   "id": "f422ef01",
   "metadata": {
    "scrolled": true
   },
   "outputs": [],
   "source": [
    "url = 'https://www.zillow.com/sacramento-ca/'"
   ]
  },
  {
   "cell_type": "markdown",
   "id": "8602930b",
   "metadata": {},
   "source": [
    "Many sites reject traffic that looks automated, so we’ll add a realistic `User-Agent` (and any other needed headers) to make the request resemble a normal browser visit. After sending the request with `requests.get()`, we’ll check `response.status_code` to confirm the page loaded successfully and handle any errors.\n"
   ]
  },
  {
   "cell_type": "code",
   "execution_count": 215,
   "id": "95d8929c",
   "metadata": {},
   "outputs": [
    {
     "data": {
      "text/plain": [
       "200"
      ]
     },
     "execution_count": 215,
     "metadata": {},
     "output_type": "execute_result"
    }
   ],
   "source": [
    "headers = {\n",
    "    \"User-Agent\": \"Mozilla/5.0 (Windows NT 10.0; Win64; x64) AppleWebKit/537.36 (KHTML, like Gecko) Chrome/123.0.0.0 Safari/537.36\",\n",
    "    \"Accept\": \"text/html,application/xhtml+xml,application/xml;q=0.9,image/avif,image/webp,image/apng,*/*;q=0.8,application/signed-exchange;v=b3;q=0.7\",\n",
    "    \"Accept-Language\": \"en-US,en;q=0.9\",\n",
    "    \"Accept-Encoding\": \"gzip, deflate, br, zstd\",\n",
    "    \"Cookie\": \"zgcus_aeut=AEUUT_f8285d35-d62a-11ef-84f9-3685c7040b65; zgcus_aeuut=AEUUT_f8285d35-d62a-11ef-84f9-3685c7040b65; optimizelyEndUserId=oeu1748681974282r0.7023196952060992; zguid=24|%245fcea5b3-17e1-4f31-9bec-46406835c8f5; zjs_anonymous_id=%225fcea5b3-17e1-4f31-9bec-46406835c8f5%22; zjs_user_id=null; zg_anonymous_id=%221582b5e4-ab92-4629-a63d-3dab7241331a%22; _pxvid=92193fe5-3dfd-11f0-9e08-aa8e85a15028; _ga=GA1.2.855722002.1748681975; zjs_user_id_type=%22encoded_zuid%22; _gcl_au=1.1.1107335690.1748681977; _scid=T0MaaKLYvgqlo8mGS15e80zY1uQsPeOUBkZrMg; _tt_enable_cookie=1; _ttp=01JWJS2VTA2DJWZVC3KWWBQYCJ_.tt.1; _pin_unauth=dWlkPU1qaGxZMk5sWmpjdE1HSXdOaTAwTTJSakxXRXpaREl0WldFME1ETXdOekZsTVRGbQ; _fbp=fb.1.1748681977986.1014500896111575; optimizelySession=1748682064919; _gid=GA1.2.983266200.1752018609; _ScCbts=%5B%22236%3Bchrome.2%3A2%3A5%22%5D; _sctr=1%7C1751958000000; _clck=2ftutl%7C2%7Cfxg%7C0%7C1977; _lr_env_src_ats=false; _lr_sampling_rate=100; zgsession=1|24c48bb5-9fd6-4c0d-9100-dc987418c2a6; pxcts=368d501c-5cf3-11f0-aa03-c6ecd6c7b9a5; DoubleClickSession=true; AWSALB=0zulJC/UDPYSurW5e8itP94hdXrvtAGwRYotCYIimBuY1dT9mR2tMAh+/O2x4bIFYfn8yUcWDyqoMrdvB4LDVywzun5Vd05D5XvHEtTDl6Pua6q4wjsMOCELqxF+; AWSALBCORS=0zulJC/UDPYSurW5e8itP94hdXrvtAGwRYotCYIimBuY1dT9mR2tMAh+/O2x4bIFYfn8yUcWDyqoMrdvB4LDVywzun5Vd05D5XvHEtTDl6Pua6q4wjsMOCELqxF+; JSESSIONID=531AEFE98F2F210DD11A6061327BD095; connectId=%7B%22puid%22%3A%22c13d67b00ee65378ea66a4efe20714a232295878014dc419589dcfeef2baa883%22%2C%22vmuid%22%3A%22EMtNg3cAVC12XuUKowM8SnsqgaQQwkmDb8VljAb_SJmwfNw33JqP_uhh7FXRyiZZ8AOfs-DEKJBRdfjJc8FUoQ%22%2C%22connectid%22%3A%22EMtNg3cAVC12XuUKowM8SnsqgaQQwkmDb8VljAb_SJmwfNw33JqP_uhh7FXRyiZZ8AOfs-DEKJBRdfjJc8FUoQ%22%2C%22connectId%22%3A%22EMtNg3cAVC12XuUKowM8SnsqgaQQwkmDb8VljAb_SJmwfNw33JqP_uhh7FXRyiZZ8AOfs-DEKJBRdfjJc8FUoQ%22%2C%22ttl%22%3A86400000%2C%22lastSynced%22%3A1752019802305%2C%22lastUsed%22%3A1752090425606%7D; _lr_retry_request=true; _scid_r=V0MaaKLYvgqlo8mGS15e80zY1uQsPeOUBkZrOg; _rdt_uuid=1748681977097.4fc67117-4812-4301-9a10-8145dd2d7a31; _uetsid=48adfea05c5611f0b4897d0926926b7e; _uetvid=f97b4a30d62a11efb61c0b9de1eb7738; _px3=3c01ba1b5a8c320ce70ce5efd72ac83951a7b307752b486c0313e8c745cc0325:Xad+q0p70YTSfJuXFIM3G93kuWAma141w5QWiEmkUPr//vQYfew7u4kTh323Ukk6tjOZn52caGfAsXnoM/SOIw==:1000:IaAO7tLVSMABl+2Vt4pRqL2K//3xSAVyjjLC3iMYB7geVZE3FMndi/IDyaWOXtOkpv0wVXfzs2MiFO07+Wt6Y3iPe1LcEAyCq/WsIATdvb/fAHAi429iS+ce8P/A1666N6hBMgH6UsTMXZB7JbciDYvGbgxHdiWXTwfX7JKiVDaRLXTGjq0wRQuUNwlcXPSez2KOHqpDhsqXEnQNoK7RT29hYXPqSGj8Jo27sCMhZAE=; tfpsi=53c6625c-5a80-41b4-b206-dc89e7dfcea3; ttcsid=1752092388150::UOWwNVdCEeAEwyEyMoYq.8.1752092874328; _clsk=127bt1u%7C1752092874786%7C3%7C0%7Cd.clarity.ms%2Fcollect; search=6|1754684872032%7Crect%3D39.18123381104551%2C-120.24362099609375%2C38.03192689431649%2C-122.68807900390625%26rid%3D20288%26disp%3Dmap%26mdm%3Dauto%26p%3D1%26listPriceActive%3D1%26lt%3Dfsba%2Cfsbo%2Cnew%2Ccmsn%26fs%3D1%26fr%3D0%26mmm%3D0%26rs%3D0%26singlestory%3D0%26housing-connector%3D0%26parking-spots%3Dnull-%26abo%3D0%26garage%3D0%26pool%3D0%26ac%3D0%26waterfront%3D0%26finished%3D0%26unfinished%3D0%26cityview%3D0%26mountainview%3D0%26parkview%3D0%26waterview%3D0%26hoadata%3D1%26zillow-owned%3D0%263dhome%3D0%26showcase%3D0%26featuredMultiFamilyBuilding%3D0%26onlyRentalStudentHousingType%3D0%26onlyRentalIncomeRestrictedHousingType%3D0%26onlyRentalMilitaryHousingType%3D0%26onlyRentalDisabledHousingType%3D0%26onlyRentalSeniorHousingType%3D0%26commuteMode%3Ddriving%26commuteTimeOfDay%3Dnow%09%0920288%09%7B%22isList%22%3Atrue%2C%22isMap%22%3Atrue%7D%09%09%09%09%09; ttcsid_CN5P33RC77UF9CBTPH9G=1752092388150::Je_O1JzH5MAHxu8gYyBm.8.1752092875944; __gads=ID=c83766f28519d0c9:T=1752019799:RT=1752092873:S=ALNI_MZBTIaWPhARLmWAuP9XUYKs_g_jqw; __gpi=UID=000010f89a9f7723:T=1752019799:RT=1752092873:S=ALNI_MZJPVsJlL9dZZRRCM5sK7V-YGs8Tw; __eoi=ID=c7dea6c347eed0eb:T=1752019799:RT=1752092873:S=AA-AfjZ_dIt-mlBMVfOiX8wRqtcC\"\n",
    "}\n",
    "\n",
    "response = requests.get(url, headers=headers)\n",
    "\n",
    "response.status_code"
   ]
  },
  {
   "cell_type": "markdown",
   "id": "851a8878",
   "metadata": {},
   "source": [
    "An HTTP **200** status means the request succeeded and the page content is available—so we can proceed with parsing.\n"
   ]
  },
  {
   "cell_type": "markdown",
   "id": "216df9d0",
   "metadata": {},
   "source": [
    "## II. Soup"
   ]
  },
  {
   "cell_type": "markdown",
   "id": "4e7ad791",
   "metadata": {},
   "source": [
    "Now that we have a clean 200 OK status, we can hand the page to **BeautifulSoup** for parsing and inspection. Before doing so, we set `response.encoding` (if it wasn’t provided) and use `response.content.decode(response.encoding, errors=\"replace\")` to ensure the HTML is decoded with the correct character set, avoiding any stray-character or encoding errors during parsing.\n"
   ]
  },
  {
   "cell_type": "code",
   "execution_count": 219,
   "id": "94cdacf4",
   "metadata": {},
   "outputs": [],
   "source": [
    "encod = response.encoding\n",
    "contents = response.content.decode(encod, errors=\"replace\")\n",
    "\n",
    "soup = BeautifulSoup(contents, 'html.parser')\n"
   ]
  },
  {
   "cell_type": "markdown",
   "id": "c1e4002e",
   "metadata": {},
   "source": [
    "With the full HTML in hand, our first step is to locate the section header that contains the data we need—in this case, the heading **“Sacramento CA Real Estate.”**\n"
   ]
  },
  {
   "cell_type": "code",
   "execution_count": 217,
   "id": "a2f8fc45",
   "metadata": {},
   "outputs": [
    {
     "name": "stdout",
     "output_type": "stream",
     "text": [
      "Sacramento CA Real Estate - Sacramento CA Homes For Sale | Zillow\n"
     ]
    }
   ],
   "source": [
    "titles = soup.title.text\n",
    "\n",
    "print(titles)"
   ]
  },
  {
   "cell_type": "markdown",
   "id": "187fb77e",
   "metadata": {},
   "source": [
    "Finally, we’ll build a DataFrame and populate it with the information extracted from the HTML. We’ll loop through every property card, pull out the relevant fields, and append each record to the DataFrame. Wrapping the extraction logic in a `try / except` block lets the loop continue even if a particular card is malformed or a field is missing."
   ]
  },
  {
   "cell_type": "code",
   "execution_count": 225,
   "id": "e995f492",
   "metadata": {
    "scrolled": true
   },
   "outputs": [
    {
     "data": {
      "text/html": [
       "<div>\n",
       "<style scoped>\n",
       "    .dataframe tbody tr th:only-of-type {\n",
       "        vertical-align: middle;\n",
       "    }\n",
       "\n",
       "    .dataframe tbody tr th {\n",
       "        vertical-align: top;\n",
       "    }\n",
       "\n",
       "    .dataframe thead th {\n",
       "        text-align: right;\n",
       "    }\n",
       "</style>\n",
       "<table border=\"1\" class=\"dataframe\">\n",
       "  <thead>\n",
       "    <tr style=\"text-align: right;\">\n",
       "      <th></th>\n",
       "      <th>price</th>\n",
       "      <th>posted_note</th>\n",
       "      <th>address</th>\n",
       "      <th>detail</th>\n",
       "      <th>link</th>\n",
       "    </tr>\n",
       "  </thead>\n",
       "  <tbody>\n",
       "    <tr>\n",
       "      <th>0</th>\n",
       "      <td>$585,000</td>\n",
       "      <td>3D Tour</td>\n",
       "      <td>1925 Woodstock Way, Sacramento, CA 95825</td>\n",
       "      <td>4bds3ba2,092sqft</td>\n",
       "      <td>https://www.zillow.com/homedetails/1925-Woodst...</td>\n",
       "    </tr>\n",
       "    <tr>\n",
       "      <th>1</th>\n",
       "      <td>$559,000</td>\n",
       "      <td>Price cut: $6,000 (6/28)</td>\n",
       "      <td>2312 Endeavor Way, Sacramento, CA 95834</td>\n",
       "      <td>4bds3ba2,148sqft</td>\n",
       "      <td>https://www.zillow.com/homedetails/2312-Endeav...</td>\n",
       "    </tr>\n",
       "    <tr>\n",
       "      <th>2</th>\n",
       "      <td>$595,000</td>\n",
       "      <td>Private bath</td>\n",
       "      <td>3312 Mas Amilos Way, Sacramento, CA 95835</td>\n",
       "      <td>4bds2ba2,078sqft</td>\n",
       "      <td>https://www.zillow.com/homedetails/3312-Mas-Am...</td>\n",
       "    </tr>\n",
       "    <tr>\n",
       "      <th>3</th>\n",
       "      <td>$574,950</td>\n",
       "      <td>Price cut: $24,050 (7/16)</td>\n",
       "      <td>3301 Myna Way, Sacramento, CA 95834</td>\n",
       "      <td>4bds3ba2,090sqft</td>\n",
       "      <td>https://www.zillow.com/homedetails/3301-Myna-W...</td>\n",
       "    </tr>\n",
       "    <tr>\n",
       "      <th>4</th>\n",
       "      <td>$564,999</td>\n",
       "      <td>Upstairs laundry room</td>\n",
       "      <td>560 Willie Hausey Way, Sacramento, CA 95838</td>\n",
       "      <td>4bds2.5ba2,370sqft</td>\n",
       "      <td>https://www.zillow.com/homedetails/560-Willie-...</td>\n",
       "    </tr>\n",
       "    <tr>\n",
       "      <th>5</th>\n",
       "      <td>$569,000</td>\n",
       "      <td>Price cut: $5,900 (7/19)</td>\n",
       "      <td>2560 Greg Jarvis Avenue, Sacramento, CA 95834</td>\n",
       "      <td>4bds4ba2,220sqft</td>\n",
       "      <td>https://www.zillow.com/homedetails/2560-Greg-J...</td>\n",
       "    </tr>\n",
       "    <tr>\n",
       "      <th>6</th>\n",
       "      <td>$555,000</td>\n",
       "      <td>Beautifully landscaped yard</td>\n",
       "      <td>7043 Catlen Way, Sacramento, CA 95831</td>\n",
       "      <td>4bds3ba1,804sqft</td>\n",
       "      <td>https://www.zillow.com/homedetails/7043-Catlen...</td>\n",
       "    </tr>\n",
       "    <tr>\n",
       "      <th>7</th>\n",
       "      <td>$599,900</td>\n",
       "      <td>Modern flooring</td>\n",
       "      <td>8053 Bothwell Dr, Sacramento, CA 95829</td>\n",
       "      <td>4bds2ba2,078sqft</td>\n",
       "      <td>https://www.zillow.com/homedetails/8053-Bothwe...</td>\n",
       "    </tr>\n",
       "    <tr>\n",
       "      <th>8</th>\n",
       "      <td>$650,000</td>\n",
       "      <td>Showcase</td>\n",
       "      <td>1956 4th Ave, Sacramento, CA 95818</td>\n",
       "      <td>2bds1ba965sqft</td>\n",
       "      <td>https://www.zillow.com/homedetails/1956-4th-Av...</td>\n",
       "    </tr>\n",
       "  </tbody>\n",
       "</table>\n",
       "</div>"
      ],
      "text/plain": [
       "      price                  posted_note  \\\n",
       "0  $585,000                      3D Tour   \n",
       "1  $559,000     Price cut: $6,000 (6/28)   \n",
       "2  $595,000                 Private bath   \n",
       "3  $574,950    Price cut: $24,050 (7/16)   \n",
       "4  $564,999        Upstairs laundry room   \n",
       "5  $569,000     Price cut: $5,900 (7/19)   \n",
       "6  $555,000  Beautifully landscaped yard   \n",
       "7  $599,900              Modern flooring   \n",
       "8  $650,000                     Showcase   \n",
       "\n",
       "                                         address              detail  \\\n",
       "0       1925 Woodstock Way, Sacramento, CA 95825    4bds3ba2,092sqft   \n",
       "1        2312 Endeavor Way, Sacramento, CA 95834    4bds3ba2,148sqft   \n",
       "2      3312 Mas Amilos Way, Sacramento, CA 95835    4bds2ba2,078sqft   \n",
       "3            3301 Myna Way, Sacramento, CA 95834    4bds3ba2,090sqft   \n",
       "4    560 Willie Hausey Way, Sacramento, CA 95838  4bds2.5ba2,370sqft   \n",
       "5  2560 Greg Jarvis Avenue, Sacramento, CA 95834    4bds4ba2,220sqft   \n",
       "6          7043 Catlen Way, Sacramento, CA 95831    4bds3ba1,804sqft   \n",
       "7         8053 Bothwell Dr, Sacramento, CA 95829    4bds2ba2,078sqft   \n",
       "8             1956 4th Ave, Sacramento, CA 95818      2bds1ba965sqft   \n",
       "\n",
       "                                                link  \n",
       "0  https://www.zillow.com/homedetails/1925-Woodst...  \n",
       "1  https://www.zillow.com/homedetails/2312-Endeav...  \n",
       "2  https://www.zillow.com/homedetails/3312-Mas-Am...  \n",
       "3  https://www.zillow.com/homedetails/3301-Myna-W...  \n",
       "4  https://www.zillow.com/homedetails/560-Willie-...  \n",
       "5  https://www.zillow.com/homedetails/2560-Greg-J...  \n",
       "6  https://www.zillow.com/homedetails/7043-Catlen...  \n",
       "7  https://www.zillow.com/homedetails/8053-Bothwe...  \n",
       "8  https://www.zillow.com/homedetails/1956-4th-Av...  "
      ]
     },
     "execution_count": 225,
     "metadata": {},
     "output_type": "execute_result"
    }
   ],
   "source": [
    "## Create a dataframe\n",
    "table1 = pd.DataFrame(columns = {'address', 'price', 'detail', 'link', 'posted_note'})\n",
    "\n",
    "## Find all listing cards\n",
    "houses = soup.find_all(\"div\", {\"class\":\"StyledCard-c11n-8-109-3__sc-1w6p0lv-0 icLwbG StyledPropertyCardBody-c11n-8-109-3__sc-1danayh-0 iHqwT PropertyCardWrapper__StyledPropertyCardBody-srp-8-109-3__sc-16e8gqd-3 iSbqZf\" })\n",
    "\n",
    "## Loop through the listing cards that will populate our dataframe \n",
    "for house in houses: \n",
    "    try:\n",
    "        address = house.find(\"address\").get_text(strip=True)\n",
    "        price = house.find(\"span\", {\"data-test\":\"property-card-price\"}).get_text(strip=True)\n",
    "        link = house.find(\"div\", {\"class\":\"StyledPhotoCarouselSlide-c11n-8-109-3__sc-jwte3-0 bYzbke\"}).a[\"href\"]\n",
    "        posted = house.find(\"div\", class_ = \"StyledPropertyCardBadgeArea-c11n-8-109-3__sc-11omngf-0 izNoTZ\").get_text(strip=True)\n",
    "        detail = house.find(\"ul\", {\"class\":\"StyledPropertyCardHomeDetailsList-c11n-8-109-3__sc-1j0som5-0 dFYPvN\"}).get_text(strip=True)\n",
    "    except Exception as e: \n",
    "        address = None\n",
    "        price = None\n",
    "        link = None\n",
    "        posted = None\n",
    "        detail = None\n",
    "        \n",
    "    table1 = table1.append({\"address\": address, \"price\": price, \"detail\": detail, \"link\": link, \n",
    "                               \"posted_note\": posted}, ignore_index=True)\n",
    "        \n",
    "table1"
   ]
  },
  {
   "cell_type": "markdown",
   "id": "b3d31e66",
   "metadata": {},
   "source": [
    "## III. Conclusion \n"
   ]
  },
  {
   "cell_type": "markdown",
   "id": "16096d9b",
   "metadata": {},
   "source": [
    "This walkthrough showed a basic way to collect data with BeautifulSoup. Notice that our DataFrame holds only 9 records, even though the page displays 41 listings. Because the results span several pages, our next iteration will focus on handling pagination so we can capture every listing.\n"
   ]
  }
 ],
 "metadata": {
  "kernelspec": {
   "display_name": "Python 3 (ipykernel)",
   "language": "python",
   "name": "python3"
  },
  "language_info": {
   "codemirror_mode": {
    "name": "ipython",
    "version": 3
   },
   "file_extension": ".py",
   "mimetype": "text/x-python",
   "name": "python",
   "nbconvert_exporter": "python",
   "pygments_lexer": "ipython3",
   "version": "3.9.7"
  }
 },
 "nbformat": 4,
 "nbformat_minor": 5
}
